{
 "cells": [
  {
   "cell_type": "code",
   "execution_count": 1,
   "id": "74811c4a",
   "metadata": {},
   "outputs": [],
   "source": [
    "import pandas as pd"
   ]
  },
  {
   "cell_type": "code",
   "execution_count": 3,
   "id": "84d9bccc",
   "metadata": {},
   "outputs": [],
   "source": [
    "df = pd.read_csv(\"https://raw.githubusercontent.com/shubh24/indian-premier-league/master/matches.csv\")"
   ]
  },
  {
   "cell_type": "code",
   "execution_count": 4,
   "id": "c868eb97",
   "metadata": {},
   "outputs": [
    {
     "data": {
      "text/html": [
       "<div>\n",
       "<style scoped>\n",
       "    .dataframe tbody tr th:only-of-type {\n",
       "        vertical-align: middle;\n",
       "    }\n",
       "\n",
       "    .dataframe tbody tr th {\n",
       "        vertical-align: top;\n",
       "    }\n",
       "\n",
       "    .dataframe thead th {\n",
       "        text-align: right;\n",
       "    }\n",
       "</style>\n",
       "<table border=\"1\" class=\"dataframe\">\n",
       "  <thead>\n",
       "    <tr style=\"text-align: right;\">\n",
       "      <th></th>\n",
       "      <th>id</th>\n",
       "      <th>season</th>\n",
       "      <th>city</th>\n",
       "      <th>date</th>\n",
       "      <th>team1</th>\n",
       "      <th>team2</th>\n",
       "      <th>toss_winner</th>\n",
       "      <th>toss_decision</th>\n",
       "      <th>result</th>\n",
       "      <th>dl_applied</th>\n",
       "      <th>winner</th>\n",
       "      <th>win_by_runs</th>\n",
       "      <th>win_by_wickets</th>\n",
       "      <th>player_of_match</th>\n",
       "      <th>venue</th>\n",
       "      <th>umpire1</th>\n",
       "      <th>umpire2</th>\n",
       "      <th>umpire3</th>\n",
       "    </tr>\n",
       "  </thead>\n",
       "  <tbody>\n",
       "    <tr>\n",
       "      <th>0</th>\n",
       "      <td>1</td>\n",
       "      <td>2008</td>\n",
       "      <td>Bangalore</td>\n",
       "      <td>2008-04-18</td>\n",
       "      <td>Kolkata Knight Riders</td>\n",
       "      <td>Royal Challengers Bangalore</td>\n",
       "      <td>Royal Challengers Bangalore</td>\n",
       "      <td>field</td>\n",
       "      <td>normal</td>\n",
       "      <td>0</td>\n",
       "      <td>Kolkata Knight Riders</td>\n",
       "      <td>140</td>\n",
       "      <td>0</td>\n",
       "      <td>BB McCullum</td>\n",
       "      <td>M Chinnaswamy Stadium</td>\n",
       "      <td>Asad Rauf</td>\n",
       "      <td>RE Koertzen</td>\n",
       "      <td>NaN</td>\n",
       "    </tr>\n",
       "    <tr>\n",
       "      <th>1</th>\n",
       "      <td>2</td>\n",
       "      <td>2008</td>\n",
       "      <td>Chandigarh</td>\n",
       "      <td>2008-04-19</td>\n",
       "      <td>Chennai Super Kings</td>\n",
       "      <td>Kings XI Punjab</td>\n",
       "      <td>Chennai Super Kings</td>\n",
       "      <td>bat</td>\n",
       "      <td>normal</td>\n",
       "      <td>0</td>\n",
       "      <td>Chennai Super Kings</td>\n",
       "      <td>33</td>\n",
       "      <td>0</td>\n",
       "      <td>MEK Hussey</td>\n",
       "      <td>Punjab Cricket Association Stadium, Mohali</td>\n",
       "      <td>MR Benson</td>\n",
       "      <td>SL Shastri</td>\n",
       "      <td>NaN</td>\n",
       "    </tr>\n",
       "    <tr>\n",
       "      <th>2</th>\n",
       "      <td>3</td>\n",
       "      <td>2008</td>\n",
       "      <td>Delhi</td>\n",
       "      <td>2008-04-19</td>\n",
       "      <td>Rajasthan Royals</td>\n",
       "      <td>Delhi Daredevils</td>\n",
       "      <td>Rajasthan Royals</td>\n",
       "      <td>bat</td>\n",
       "      <td>normal</td>\n",
       "      <td>0</td>\n",
       "      <td>Delhi Daredevils</td>\n",
       "      <td>0</td>\n",
       "      <td>9</td>\n",
       "      <td>MF Maharoof</td>\n",
       "      <td>Feroz Shah Kotla</td>\n",
       "      <td>Aleem Dar</td>\n",
       "      <td>GA Pratapkumar</td>\n",
       "      <td>NaN</td>\n",
       "    </tr>\n",
       "    <tr>\n",
       "      <th>3</th>\n",
       "      <td>4</td>\n",
       "      <td>2008</td>\n",
       "      <td>Mumbai</td>\n",
       "      <td>2008-04-20</td>\n",
       "      <td>Mumbai Indians</td>\n",
       "      <td>Royal Challengers Bangalore</td>\n",
       "      <td>Mumbai Indians</td>\n",
       "      <td>bat</td>\n",
       "      <td>normal</td>\n",
       "      <td>0</td>\n",
       "      <td>Royal Challengers Bangalore</td>\n",
       "      <td>0</td>\n",
       "      <td>5</td>\n",
       "      <td>MV Boucher</td>\n",
       "      <td>Wankhede Stadium</td>\n",
       "      <td>SJ Davis</td>\n",
       "      <td>DJ Harper</td>\n",
       "      <td>NaN</td>\n",
       "    </tr>\n",
       "    <tr>\n",
       "      <th>4</th>\n",
       "      <td>5</td>\n",
       "      <td>2008</td>\n",
       "      <td>Kolkata</td>\n",
       "      <td>2008-04-20</td>\n",
       "      <td>Deccan Chargers</td>\n",
       "      <td>Kolkata Knight Riders</td>\n",
       "      <td>Deccan Chargers</td>\n",
       "      <td>bat</td>\n",
       "      <td>normal</td>\n",
       "      <td>0</td>\n",
       "      <td>Kolkata Knight Riders</td>\n",
       "      <td>0</td>\n",
       "      <td>5</td>\n",
       "      <td>DJ Hussey</td>\n",
       "      <td>Eden Gardens</td>\n",
       "      <td>BF Bowden</td>\n",
       "      <td>K Hariharan</td>\n",
       "      <td>NaN</td>\n",
       "    </tr>\n",
       "  </tbody>\n",
       "</table>\n",
       "</div>"
      ],
      "text/plain": [
       "   id  season        city        date                  team1  \\\n",
       "0   1    2008   Bangalore  2008-04-18  Kolkata Knight Riders   \n",
       "1   2    2008  Chandigarh  2008-04-19    Chennai Super Kings   \n",
       "2   3    2008       Delhi  2008-04-19       Rajasthan Royals   \n",
       "3   4    2008      Mumbai  2008-04-20         Mumbai Indians   \n",
       "4   5    2008     Kolkata  2008-04-20        Deccan Chargers   \n",
       "\n",
       "                         team2                  toss_winner toss_decision  \\\n",
       "0  Royal Challengers Bangalore  Royal Challengers Bangalore         field   \n",
       "1              Kings XI Punjab          Chennai Super Kings           bat   \n",
       "2             Delhi Daredevils             Rajasthan Royals           bat   \n",
       "3  Royal Challengers Bangalore               Mumbai Indians           bat   \n",
       "4        Kolkata Knight Riders              Deccan Chargers           bat   \n",
       "\n",
       "   result  dl_applied                       winner  win_by_runs  \\\n",
       "0  normal           0        Kolkata Knight Riders          140   \n",
       "1  normal           0          Chennai Super Kings           33   \n",
       "2  normal           0             Delhi Daredevils            0   \n",
       "3  normal           0  Royal Challengers Bangalore            0   \n",
       "4  normal           0        Kolkata Knight Riders            0   \n",
       "\n",
       "   win_by_wickets player_of_match                                       venue  \\\n",
       "0               0     BB McCullum                       M Chinnaswamy Stadium   \n",
       "1               0      MEK Hussey  Punjab Cricket Association Stadium, Mohali   \n",
       "2               9     MF Maharoof                            Feroz Shah Kotla   \n",
       "3               5      MV Boucher                            Wankhede Stadium   \n",
       "4               5       DJ Hussey                                Eden Gardens   \n",
       "\n",
       "     umpire1         umpire2  umpire3  \n",
       "0  Asad Rauf     RE Koertzen      NaN  \n",
       "1  MR Benson      SL Shastri      NaN  \n",
       "2  Aleem Dar  GA Pratapkumar      NaN  \n",
       "3   SJ Davis       DJ Harper      NaN  \n",
       "4  BF Bowden     K Hariharan      NaN  "
      ]
     },
     "execution_count": 4,
     "metadata": {},
     "output_type": "execute_result"
    }
   ],
   "source": [
    "df.head()"
   ]
  },
  {
   "cell_type": "code",
   "execution_count": 7,
   "id": "1b5a1e8f",
   "metadata": {},
   "outputs": [],
   "source": [
    "import seaborn as sns\n",
    "import matplotlib.pyplot as plt\n",
    "from mpl_toolkits.mplot3d import Axes3D"
   ]
  },
  {
   "cell_type": "code",
   "execution_count": 26,
   "id": "1971faa3",
   "metadata": {},
   "outputs": [
    {
     "data": {
      "text/plain": [
       "Rajasthan Royals               13\n",
       "Kings XI Punjab                10\n",
       "Chennai Super Kings             9\n",
       "Delhi Daredevils                7\n",
       "Mumbai Indians                  7\n",
       "Kolkata Knight Riders           6\n",
       "Royal Challengers Bangalore     4\n",
       "Deccan Chargers                 2\n",
       "Name: winner, dtype: int64"
      ]
     },
     "execution_count": 26,
     "metadata": {},
     "output_type": "execute_result"
    }
   ],
   "source": [
    "df[df[\"season\"] == 2008][\"winner\"].value_counts()"
   ]
  },
  {
   "cell_type": "code",
   "execution_count": 30,
   "id": "5287fa4f",
   "metadata": {},
   "outputs": [
    {
     "data": {
      "text/plain": [
       "CH Gayle          17\n",
       "YK Pathan         16\n",
       "AB de Villiers    15\n",
       "DA Warner         14\n",
       "RG Sharma         13\n",
       "                  ..\n",
       "MN Samuels         1\n",
       "S Badrinath        1\n",
       "R Bhatia           1\n",
       "RE Levi            1\n",
       "BCJ Cutting        1\n",
       "Name: player_of_match, Length: 187, dtype: int64"
      ]
     },
     "execution_count": 30,
     "metadata": {},
     "output_type": "execute_result"
    }
   ],
   "source": [
    "df[\"player_of_match\"].value_counts()"
   ]
  },
  {
   "cell_type": "code",
   "execution_count": 8,
   "id": "1e180091",
   "metadata": {},
   "outputs": [
    {
     "ename": "NameError",
     "evalue": "name 'plotperColumnDistribution' is not defined",
     "output_type": "error",
     "traceback": [
      "\u001b[1;31m---------------------------------------------------------------------------\u001b[0m",
      "\u001b[1;31mNameError\u001b[0m                                 Traceback (most recent call last)",
      "Input \u001b[1;32mIn [8]\u001b[0m, in \u001b[0;36m<cell line: 1>\u001b[1;34m()\u001b[0m\n\u001b[1;32m----> 1\u001b[0m \u001b[43mplotperColumnDistribution\u001b[49m(df1)\n",
      "\u001b[1;31mNameError\u001b[0m: name 'plotperColumnDistribution' is not defined"
     ]
    }
   ],
   "source": [
    "plotperColumnDistribution(df1)"
   ]
  },
  {
   "cell_type": "code",
   "execution_count": 9,
   "id": "ce8be764",
   "metadata": {},
   "outputs": [
    {
     "data": {
      "text/plain": [
       "['id',\n",
       " 'season',\n",
       " 'city',\n",
       " 'date',\n",
       " 'team1',\n",
       " 'team2',\n",
       " 'toss_winner',\n",
       " 'toss_decision',\n",
       " 'result',\n",
       " 'dl_applied',\n",
       " 'winner',\n",
       " 'win_by_runs',\n",
       " 'win_by_wickets',\n",
       " 'player_of_match',\n",
       " 'venue',\n",
       " 'umpire1',\n",
       " 'umpire2',\n",
       " 'umpire3']"
      ]
     },
     "execution_count": 9,
     "metadata": {},
     "output_type": "execute_result"
    }
   ],
   "source": [
    "list(df)"
   ]
  },
  {
   "cell_type": "code",
   "execution_count": 16,
   "id": "02d88a27",
   "metadata": {},
   "outputs": [
    {
     "data": {
      "text/plain": [
       "id                   int64\n",
       "season               int64\n",
       "city                object\n",
       "date                object\n",
       "team1               object\n",
       "team2               object\n",
       "toss_winner         object\n",
       "toss_decision       object\n",
       "result              object\n",
       "dl_applied           int64\n",
       "winner              object\n",
       "win_by_runs          int64\n",
       "win_by_wickets       int64\n",
       "player_of_match     object\n",
       "venue               object\n",
       "umpire1             object\n",
       "umpire2             object\n",
       "umpire3            float64\n",
       "dtype: object"
      ]
     },
     "execution_count": 16,
     "metadata": {},
     "output_type": "execute_result"
    }
   ],
   "source": [
    "df.dtypes"
   ]
  },
  {
   "cell_type": "code",
   "execution_count": 11,
   "id": "466d78d5",
   "metadata": {},
   "outputs": [
    {
     "data": {
      "text/plain": [
       "(577, 18)"
      ]
     },
     "execution_count": 11,
     "metadata": {},
     "output_type": "execute_result"
    }
   ],
   "source": [
    "df.shape"
   ]
  },
  {
   "cell_type": "code",
   "execution_count": 12,
   "id": "799ee16b",
   "metadata": {},
   "outputs": [
    {
     "data": {
      "text/plain": [
       "id                 577\n",
       "season               9\n",
       "city                30\n",
       "date               407\n",
       "team1               13\n",
       "team2               13\n",
       "toss_winner         13\n",
       "toss_decision        2\n",
       "result               3\n",
       "dl_applied           2\n",
       "winner              13\n",
       "win_by_runs         83\n",
       "win_by_wickets      11\n",
       "player_of_match    187\n",
       "venue               35\n",
       "umpire1             43\n",
       "umpire2             45\n",
       "umpire3              0\n",
       "dtype: int64"
      ]
     },
     "execution_count": 12,
     "metadata": {},
     "output_type": "execute_result"
    }
   ],
   "source": [
    "df.nunique()"
   ]
  },
  {
   "cell_type": "code",
   "execution_count": 31,
   "id": "51e8fe0f",
   "metadata": {},
   "outputs": [
    {
     "name": "stdout",
     "output_type": "stream",
     "text": [
      "<class 'pandas.core.frame.DataFrame'>\n",
      "RangeIndex: 577 entries, 0 to 576\n",
      "Data columns (total 18 columns):\n",
      " #   Column           Non-Null Count  Dtype  \n",
      "---  ------           --------------  -----  \n",
      " 0   id               577 non-null    int64  \n",
      " 1   season           577 non-null    int64  \n",
      " 2   city             570 non-null    object \n",
      " 3   date             577 non-null    object \n",
      " 4   team1            577 non-null    object \n",
      " 5   team2            577 non-null    object \n",
      " 6   toss_winner      577 non-null    object \n",
      " 7   toss_decision    577 non-null    object \n",
      " 8   result           577 non-null    object \n",
      " 9   dl_applied       577 non-null    int64  \n",
      " 10  winner           574 non-null    object \n",
      " 11  win_by_runs      577 non-null    int64  \n",
      " 12  win_by_wickets   577 non-null    int64  \n",
      " 13  player_of_match  574 non-null    object \n",
      " 14  venue            577 non-null    object \n",
      " 15  umpire1          577 non-null    object \n",
      " 16  umpire2          577 non-null    object \n",
      " 17  umpire3          0 non-null      float64\n",
      "dtypes: float64(1), int64(5), object(12)\n",
      "memory usage: 81.3+ KB\n"
     ]
    }
   ],
   "source": [
    "df.info()"
   ]
  },
  {
   "cell_type": "code",
   "execution_count": 33,
   "id": "87ec79cf",
   "metadata": {},
   "outputs": [],
   "source": [
    "import matplotlib\n",
    "%matplotlib inline\n",
    "\n",
    "sns.set_style('darkgrid')\n",
    "matplotlib.rcParams['font.size'] = 14\n",
    "matplotlib.rcParams['figure.figsize'] = (9, 5)\n",
    "matplotlib.rcParams['figure.facecolor'] = '#00000000'"
   ]
  },
  {
   "cell_type": "code",
   "execution_count": 34,
   "id": "12fcef9f",
   "metadata": {},
   "outputs": [
    {
     "data": {
      "text/plain": [
       "Text(0.5, 0, 'cities')"
      ]
     },
     "execution_count": 34,
     "metadata": {},
     "output_type": "execute_result"
    },
    {
     "data": {
      "image/png": "[encoded data removed]",
      "text/plain": [
       "<Figure size 648x360 with 1 Axes>"
      ]
     },
     "metadata": {
      "needs_background": "light"
     },
     "output_type": "display_data"
    }
   ],
   "source": [
    "city_match_count = df.city.value_counts()\n",
    "city_match_count.plot(kind = \"bar\")\n",
    "plt.ylabel(\"numberofmatch_hosted\")\n",
    "plt.xlabel(\"cities\")\n",
    "\n"
   ]
  },
  {
   "cell_type": "code",
   "execution_count": 40,
   "id": "73b7ec47",
   "metadata": {},
   "outputs": [
    {
     "data": {
      "text/plain": [
       "Text(0.5, 0, 'teams')"
      ]
     },
     "execution_count": 40,
     "metadata": {},
     "output_type": "execute_result"
    },
    {
     "data": {
      "image/png": "[encoded data removed]",
      "text/plain": [
       "<Figure size 648x360 with 1 Axes>"
      ]
     },
     "metadata": {
      "needs_background": "light"
     },
     "output_type": "display_data"
    }
   ],
   "source": [
    "\n",
    "total_matches.plot(kind = \"bar\")\n",
    "plt.ylabel(\"numberofmatch_hosted\")\n",
    "plt.xlabel(\"teams\")"
   ]
  },
  {
   "cell_type": "code",
   "execution_count": 37,
   "id": "a5fedb56",
   "metadata": {},
   "outputs": [],
   "source": [
    "total_matches = df[\"team1\"].value_counts() + df[\"team2\"].value_counts()"
   ]
  },
  {
   "cell_type": "code",
   "execution_count": 38,
   "id": "3e2f8692",
   "metadata": {},
   "outputs": [
    {
     "data": {
      "text/plain": [
       "Chennai Super Kings            131\n",
       "Deccan Chargers                 75\n",
       "Delhi Daredevils               133\n",
       "Gujarat Lions                   16\n",
       "Kings XI Punjab                134\n",
       "Kochi Tuskers Kerala            14\n",
       "Kolkata Knight Riders          132\n",
       "Mumbai Indians                 140\n",
       "Pune Warriors                   46\n",
       "Rajasthan Royals               118\n",
       "Rising Pune Supergiants         14\n",
       "Royal Challengers Bangalore    139\n",
       "Sunrisers Hyderabad             62\n",
       "dtype: int64"
      ]
     },
     "execution_count": 38,
     "metadata": {},
     "output_type": "execute_result"
    }
   ],
   "source": [
    "total_matches"
   ]
  },
  {
   "cell_type": "code",
   "execution_count": null,
   "id": "0393169e",
   "metadata": {},
   "outputs": [],
   "source": []
  },
  {
   "cell_type": "code",
   "execution_count": 44,
   "id": "37e0bca8",
   "metadata": {},
   "outputs": [],
   "source": [
    "bat_first1 = df[df[\"toss_decision\"]==\"bat\"][\"winner\"].value_counts()"
   ]
  },
  {
   "cell_type": "code",
   "execution_count": 49,
   "id": "6e341a71",
   "metadata": {},
   "outputs": [
    {
     "data": {
      "text/plain": [
       "1              Chennai Super Kings\n",
       "2                 Delhi Daredevils\n",
       "3      Royal Challengers Bangalore\n",
       "4            Kolkata Knight Riders\n",
       "5                 Rajasthan Royals\n",
       "                  ...             \n",
       "559                Kings XI Punjab\n",
       "561          Kolkata Knight Riders\n",
       "562            Sunrisers Hyderabad\n",
       "569        Rising Pune Supergiants\n",
       "576            Sunrisers Hyderabad\n",
       "Name: winner, Length: 262, dtype: object"
      ]
     },
     "execution_count": 49,
     "metadata": {},
     "output_type": "execute_result"
    }
   ],
   "source": [
    "bat_first"
   ]
  },
  {
   "cell_type": "code",
   "execution_count": 47,
   "id": "b939be4d",
   "metadata": {},
   "outputs": [
    {
     "data": {
      "text/plain": [
       "Chennai Super Kings            50\n",
       "Mumbai Indians                 38\n",
       "Kolkata Knight Riders          33\n",
       "Rajasthan Royals               30\n",
       "Delhi Daredevils               26\n",
       "Royal Challengers Bangalore    24\n",
       "Kings XI Punjab                19\n",
       "Deccan Chargers                14\n",
       "Sunrisers Hyderabad            14\n",
       "Pune Warriors                   9\n",
       "Rising Pune Supergiants         2\n",
       "Gujarat Lions                   2\n",
       "Name: winner, dtype: int64"
      ]
     },
     "execution_count": 47,
     "metadata": {},
     "output_type": "execute_result"
    }
   ],
   "source": [
    "bat_first1"
   ]
  },
  {
   "cell_type": "code",
   "execution_count": 51,
   "id": "77c5d168",
   "metadata": {},
   "outputs": [],
   "source": [
    "bat_first = df[(df[\"toss_decision\"]==\"bat\")&(df[\"winner\"]==df[\"toss_winner\"])][\"winner\"]"
   ]
  },
  {
   "cell_type": "code",
   "execution_count": 54,
   "id": "bafb3fe5",
   "metadata": {},
   "outputs": [],
   "source": [
    "win_bat_first=bat_first.count()"
   ]
  },
  {
   "cell_type": "code",
   "execution_count": 57,
   "id": "e3795001",
   "metadata": {},
   "outputs": [],
   "source": [
    "\n",
    "bowl_first = df[(df[\"toss_decision\"]==\"field\")&(df[\"winner\"]==df[\"toss_winner\"])][\"winner\"]"
   ]
  },
  {
   "cell_type": "code",
   "execution_count": 58,
   "id": "120c03e0",
   "metadata": {},
   "outputs": [
    {
     "data": {
      "text/plain": [
       "8                 Rajasthan Royals\n",
       "10                Rajasthan Royals\n",
       "12                 Deccan Chargers\n",
       "17                 Kings XI Punjab\n",
       "24                 Kings XI Punjab\n",
       "                  ...             \n",
       "568               Delhi Daredevils\n",
       "570                  Gujarat Lions\n",
       "572    Royal Challengers Bangalore\n",
       "573    Royal Challengers Bangalore\n",
       "575            Sunrisers Hyderabad\n",
       "Name: winner, Length: 173, dtype: object"
      ]
     },
     "execution_count": 58,
     "metadata": {},
     "output_type": "execute_result"
    }
   ],
   "source": [
    "bowl_first"
   ]
  },
  {
   "cell_type": "code",
   "execution_count": 62,
   "id": "41871d11",
   "metadata": {},
   "outputs": [
    {
     "data": {
      "text/plain": [
       "([<matplotlib.patches.Wedge at 0x1d9b5c7d250>,\n",
       "  <matplotlib.patches.Wedge at 0x1d9b5c7d640>],\n",
       " [Text(-0.32179819703078894, 1.051877331435436, 'bowling_first'),\n",
       "  Text(0.32179829551465117, -1.0518773013065095, 'batting_first')])"
      ]
     },
     "execution_count": 62,
     "metadata": {},
     "output_type": "execute_result"
    },
    {
     "data": {
      "image/png": "[encoded data removed]",
      "text/plain": [
       "<Figure size 648x360 with 1 Axes>"
      ]
     },
     "metadata": {},
     "output_type": "display_data"
    }
   ],
   "source": [
    "plt.pie([win_bowl_first,win_bat_first],labels = ['bowling_first','batting_first'])"
   ]
  },
  {
   "cell_type": "code",
   "execution_count": 63,
   "id": "936e76e6",
   "metadata": {},
   "outputs": [],
   "source": [
    "win_bat = df[df[\"win_by_wickets\"]==0][\"win_by_runs\"].count()"
   ]
  },
  {
   "cell_type": "code",
   "execution_count": 64,
   "id": "a146cfd2",
   "metadata": {},
   "outputs": [
    {
     "data": {
      "text/plain": [
       "270"
      ]
     },
     "execution_count": 64,
     "metadata": {},
     "output_type": "execute_result"
    }
   ],
   "source": [
    "win_bat"
   ]
  },
  {
   "cell_type": "code",
   "execution_count": 67,
   "id": "57096f42",
   "metadata": {},
   "outputs": [],
   "source": [
    "win_field = df[\"winner\"].count() - win_bat"
   ]
  },
  {
   "cell_type": "code",
   "execution_count": 68,
   "id": "abaad8cb",
   "metadata": {},
   "outputs": [
    {
     "data": {
      "text/plain": [
       "304"
      ]
     },
     "execution_count": 68,
     "metadata": {},
     "output_type": "execute_result"
    }
   ],
   "source": [
    "win_field"
   ]
  },
  {
   "cell_type": "code",
   "execution_count": 59,
   "id": "dd369c12",
   "metadata": {},
   "outputs": [],
   "source": [
    "win_bowl_first = df[(df[\"toss_decision\"]==\"field\")&(df[\"winner\"]==df[\"toss_winner\"])][\"winner\"].count()"
   ]
  },
  {
   "cell_type": "code",
   "execution_count": 69,
   "id": "5c9afc16",
   "metadata": {},
   "outputs": [
    {
     "data": {
      "text/plain": [
       "([<matplotlib.patches.Wedge at 0x1d9b5cc5100>,\n",
       "  <matplotlib.patches.Wedge at 0x1d9b5cc55e0>],\n",
       " [Text(-0.1022004053145293, 1.0952420176169038, 'win_bowling_first'),\n",
       "  Text(0.10220040531452965, -1.0952420176169038, 'field-batting_first')])"
      ]
     },
     "execution_count": 69,
     "metadata": {},
     "output_type": "execute_result"
    },
    {
     "data": {
      "image/png": "[encoded data removed]",
      "text/plain": [
       "<Figure size 648x360 with 1 Axes>"
      ]
     },
     "metadata": {},
     "output_type": "display_data"
    }
   ],
   "source": [
    "plt.pie([win_field,win_bat],labels = ['win_bowling_first','field-batting_first'])"
   ]
  },
  {
   "cell_type": "code",
   "execution_count": 60,
   "id": "c6a25ea8",
   "metadata": {},
   "outputs": [
    {
     "data": {
      "text/plain": [
       "173"
      ]
     },
     "execution_count": 60,
     "metadata": {},
     "output_type": "execute_result"
    }
   ],
   "source": [
    "win_bowl_first"
   ]
  },
  {
   "cell_type": "code",
   "execution_count": null,
   "id": "f34e1ed3",
   "metadata": {},
   "outputs": [],
   "source": []
  }
 ],
 "metadata": {
  "kernelspec": {
   "display_name": "Python 3 (ipykernel)",
   "language": "python",
   "name": "python3"
  },
  "language_info": {
   "codemirror_mode": {
    "name": "ipython",
    "version": 3
   },
   "file_extension": ".py",
   "mimetype": "text/x-python",
   "name": "python",
   "nbconvert_exporter": "python",
   "pygments_lexer": "ipython3",
   "version": "3.9.12"
  }
 },
 "nbformat": 4,
 "nbformat_minor": 5
}
